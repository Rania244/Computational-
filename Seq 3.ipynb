{
 "cells": [
  {
   "cell_type": "code",
   "execution_count": 1,
   "id": "12279f15",
   "metadata": {},
   "outputs": [
    {
     "name": "stdout",
     "output_type": "stream",
     "text": [
      "Sequence: DFPIANGER\n",
      "Prefix: DFPI\n",
      "Suffix: ANGER\n",
      "Concatenated: DFPIANGERDFPIANGER\n"
     ]
    }
   ],
   "source": [
    "from pyopenms import *\n",
    "\n",
    "\n",
    "seq = AASequence.fromString(\"DFPIANGER\")     # create AASequence object from string representation\n",
    "\n",
    "\n",
    "prefix = seq.getPrefix(4)                    # extract prefix of length 4\n",
    "\n",
    "\n",
    "suffix = seq.getSuffix(5)                    # extract suffix of length 5\n",
    "\n",
    "\n",
    "concat = seq + seq                          # concatenate two sequences\n",
    "\n",
    "\n",
    "print(\"Sequence:\", seq)\n",
    "print(\"Prefix:\", prefix)\n",
    "print(\"Suffix:\", suffix)\n",
    "print(\"Concatenated:\", concat)"
   ]
  },
  {
   "cell_type": "code",
   "execution_count": 5,
   "id": "15823628",
   "metadata": {},
   "outputs": [
    {
     "name": "stdout",
     "output_type": "stream",
     "text": [
      "Sequence: RANIAAHMED\n",
      "Prefix: RAN\n"
     ]
    }
   ],
   "source": [
    "from pyopenms import *\n",
    "\n",
    "seq = AASequence.fromString(\"RANIAAHMED\")  \n",
    "\n",
    "prefix = seq.getPrefix(3)                   \n",
    "\n",
    "print(\"Sequence:\", seq)\n",
    "print(\"Prefix:\", prefix)"
   ]
  },
  {
   "cell_type": "code",
   "execution_count": 6,
   "id": "d639577b",
   "metadata": {},
   "outputs": [
    {
     "name": "stdout",
     "output_type": "stream",
     "text": [
      "HMED\n"
     ]
    }
   ],
   "source": [
    "suffix = seq.getSuffix(4)\n",
    "print(suffix)"
   ]
  },
  {
   "cell_type": "code",
   "execution_count": 7,
   "id": "4febba80",
   "metadata": {},
   "outputs": [
    {
     "name": "stdout",
     "output_type": "stream",
     "text": [
      "RANIAAHMEDRANIAAHMED\n"
     ]
    }
   ],
   "source": [
    "concat = seq + seq\n",
    "print(concat)"
   ]
  },
  {
   "cell_type": "code",
   "execution_count": 8,
   "id": "19f5215e",
   "metadata": {},
   "outputs": [
    {
     "name": "stdout",
     "output_type": "stream",
     "text": [
      "Monoisotopic mass of peptide [M] is 1126.5189470906\n"
     ]
    }
   ],
   "source": [
    "mfull = seq.getMonoWeight()\n",
    "print(\"Monoisotopic mass of peptide [M] is\", mfull)\n"
   ]
  },
  {
   "cell_type": "code",
   "execution_count": 12,
   "id": "120cd34f",
   "metadata": {},
   "outputs": [
    {
     "name": "stdout",
     "output_type": "stream",
     "text": [
      "The peptide RANIA consists of the following amino acids:\n",
      "Arginine : 174.1116764466\n",
      "Alanine : 89.0476792233\n",
      "Asparagine : 132.0534932552\n",
      "Isoleucine : 131.0946294147\n",
      "Alanine : 89.0476792233\n"
     ]
    }
   ],
   "source": [
    "seq = AASequence.fromString(\"RANIA\") \n",
    "print(\"The peptide\", str(seq), \"consists of the following amino acids:\")\n",
    "for aa in seq:\n",
    "    print(aa.getName(), \":\", aa.getMonoWeight())"
   ]
  },
  {
   "cell_type": "code",
   "execution_count": 13,
   "id": "a9856206",
   "metadata": {},
   "outputs": [
    {
     "name": "stdout",
     "output_type": "stream",
     "text": [
      "Peptide RANIA has molecular formula C22H41N9O7\n"
     ]
    }
   ],
   "source": [
    "seq = AASequence.fromString(\"RANIA\")\n",
    "seq_formula = seq.getFormula()\n",
    "print(\"Peptide\", seq, \"has molecular formula\", seq_formula)"
   ]
  },
  {
   "cell_type": "code",
   "execution_count": 14,
   "id": "03ed9ff3",
   "metadata": {},
   "outputs": [
    {
     "name": "stdout",
     "output_type": "stream",
     "text": [
      "y3 ion sequence: IA\n",
      "y3 mz: 102.07314825387101\n",
      "y3 molecular formula: C9H18N2O3\n"
     ]
    }
   ],
   "source": [
    "suffix = seq.getSuffix(2)                                       \n",
    "\n",
    "\n",
    "print(\"y3 ion sequence:\", suffix)\n",
    "\n",
    "y3_formula = suffix.getFormula(Residue.ResidueType.YIon, 2)        \n",
    "\n",
    "suffix.getMonoWeight(Residue.ResidueType.YIon, 2) / 2.0            \n",
    "\n",
    "suffix.getMonoWeight(Residue.ResidueType.XIon, 2) / 2.0            \n",
    "\n",
    "\n",
    "\n",
    "print(\"y3 mz:\", suffix.getMonoWeight(Residue.ResidueType.YIon, 2) / 2.0 )\n",
    "\n",
    "print(\"y3 molecular formula:\", y3_formula)"
   ]
  },
  {
   "cell_type": "code",
   "execution_count": 15,
   "id": "37959133",
   "metadata": {},
   "outputs": [
    {
     "name": "stdout",
     "output_type": "stream",
     "text": [
      "AHMEDHEIKAL\n",
      "AHMED(Oxidation)HEIKAL\n",
      "AHMED(UniMod:35)HEIKAL\n",
      "AHMED[131]HEIKAL\n",
      "AHMED[131.021859159499968]HEIKAL\n"
     ]
    }
   ],
   "source": [
    "seq = AASequence.fromString(\"AHMED(Oxidation) HEIKAL\")\n",
    "print(seq.toUnmodifiedString())\n",
    "print(seq.toString())\n",
    "print(seq.toUniModString())\n",
    "print(seq.toBracketString())\n",
    "print(seq.toBracketString(False))"
   ]
  },
  {
   "cell_type": "code",
   "execution_count": 16,
   "id": "5d8916b0",
   "metadata": {},
   "outputs": [
    {
     "name": "stdout",
     "output_type": "stream",
     "text": [
      "AHMED(Oxidation)RA\n",
      "AHMED(Oxidation)RA\n",
      "AHMED(Oxidation)RA\n",
      "AHMED(Sulfide)RA\n",
      "AHMED[147.035405]HEI\n"
     ]
    }
   ],
   "source": [
    "print(AASequence.fromString(\"AHMED(UniMod:35)RA\"))\n",
    "\n",
    "print(AASequence.fromString(\"AHMED[+16]RA\"))\n",
    "\n",
    "print(AASequence.fromString(\"AHMED[+15.99]RA\"))\n",
    "\n",
    "print(AASequence.fromString(\"AHMED[147]RA\"))\n",
    "\n",
    "print(AASequence.fromString(\"AHMED[147.035405]HEI\"))"
   ]
  },
  {
   "cell_type": "code",
   "execution_count": 17,
   "id": "072ee2d4",
   "metadata": {},
   "outputs": [],
   "source": [
    "bsa = FASTAEntry() \n",
    "\n",
    "bsa.sequence = \"AASDDDFDSGFDFHRTFHJGYR\"\n",
    "\n",
    "bsa.description = \"BSA (partial sequence)\"\n",
    "\n",
    "bsa.identifier = \"BSA\"\n",
    "\n",
    "alb = FASTAEntry()\n",
    "\n",
    "alb.sequence = \"NNNNNNNNNNNNNNNNNNNNNNNNNNNN\"\n",
    "\n",
    "alb.description = \"ALB (partial sequence)\"\n",
    "\n",
    "alb.identifier = \"ALB\"\n",
    "\n",
    "\n",
    "entries = [bsa, alb]\n",
    "\n",
    "f = FASTAFile()\n",
    "\n",
    "f.store(\"example.fasta\", entries)"
   ]
  },
  {
   "cell_type": "code",
   "execution_count": 18,
   "id": "3c30b52b",
   "metadata": {},
   "outputs": [
    {
     "name": "stdout",
     "output_type": "stream",
     "text": [
      "2\n",
      "BSA AASDDDFDSGFDFHRTFHJGYR\n",
      "ALB NNNNNNNNNNNNNNNNNNNNNNNNNNNN\n"
     ]
    }
   ],
   "source": [
    "entries = []\n",
    "\n",
    "f = FASTAFile()\n",
    "\n",
    "f.load(\"example.fasta\", entries)\n",
    "\n",
    "print( len(entries) )\n",
    "\n",
    "for e in entries:\n",
    "    print (e.identifier, e.sequence)"
   ]
  },
  {
   "cell_type": "code",
   "execution_count": null,
   "id": "87ea4d98",
   "metadata": {},
   "outputs": [],
   "source": []
  }
 ],
 "metadata": {
  "kernelspec": {
   "display_name": "Python 3 (ipykernel)",
   "language": "python",
   "name": "python3"
  },
  "language_info": {
   "codemirror_mode": {
    "name": "ipython",
    "version": 3
   },
   "file_extension": ".py",
   "mimetype": "text/x-python",
   "name": "python",
   "nbconvert_exporter": "python",
   "pygments_lexer": "ipython3",
   "version": "3.9.12"
  }
 },
 "nbformat": 4,
 "nbformat_minor": 5
}
