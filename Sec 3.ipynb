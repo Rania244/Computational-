{
 "cells": [
  {
   "cell_type": "code",
   "execution_count": 1,
   "id": "d3ccd07b",
   "metadata": {},
   "outputs": [
    {
     "name": "stdout",
     "output_type": "stream",
     "text": [
      "<?xml version=\"1.0\" encoding=\"UTF-8\"?>\n",
      "<bookstore>\n",
      "<book category=\"cooking\">\n",
      "<title lang=\"en\">Everyday Italian</title>\n",
      "<year>2005</year>\n",
      "<price>30.00</price>\n",
      "</book>\n",
      "<book category=\"children\">\n",
      "<title lang=\"en\">Harry Potter</title>\n",
      "<year>2005</year>\n",
      "<price>29.99</price>\n",
      "</book>\n",
      "<book category=\"web\">\n",
      "<title lang=\"en\">Learning XML</title>\n",
      "<year>2003</year>\n",
      "<price>39.95</price>\n",
      "</book>\n",
      "</bookstore>\n"
     ]
    }
   ],
   "source": [
    "with open('bookstore.xml') as f:\n",
    "    for line in f:\n",
    "        print(line.strip())"
   ]
  },
  {
   "cell_type": "code",
   "execution_count": 2,
   "id": "b4514d80",
   "metadata": {},
   "outputs": [
    {
     "name": "stdout",
     "output_type": "stream",
     "text": [
      "bookstore\n"
     ]
    }
   ],
   "source": [
    "import xml.etree.ElementTree as ET\n",
    "tree = ET.parse('bookstore.xml')\n",
    "root = tree.getroot()\n",
    "print(root.tag)"
   ]
  },
  {
   "cell_type": "code",
   "execution_count": 3,
   "id": "282067c9",
   "metadata": {},
   "outputs": [
    {
     "name": "stdout",
     "output_type": "stream",
     "text": [
      "book {'category': 'cooking'}\n",
      "book {'category': 'children'}\n",
      "book {'category': 'web'}\n"
     ]
    }
   ],
   "source": [
    "for child in root:\n",
    "    print(child.tag, child.attrib)"
   ]
  },
  {
   "cell_type": "code",
   "execution_count": 4,
   "id": "cedc8ef8",
   "metadata": {},
   "outputs": [
    {
     "name": "stdout",
     "output_type": "stream",
     "text": [
      "2005\n"
     ]
    }
   ],
   "source": [
    "print(root[0][1].text)"
   ]
  },
  {
   "cell_type": "code",
   "execution_count": 5,
   "id": "d0932730",
   "metadata": {},
   "outputs": [
    {
     "name": "stdout",
     "output_type": "stream",
     "text": [
      "{'lang': 'en'}\n",
      "{'lang': 'en'}\n",
      "{'lang': 'en'}\n"
     ]
    }
   ],
   "source": [
    "for title in root.iter('title'):\n",
    "    print(title.attrib)\n"
   ]
  },
  {
   "cell_type": "code",
   "execution_count": 6,
   "id": "e752621d",
   "metadata": {},
   "outputs": [],
   "source": [
    "file=open(\"test.txt\",\"w\")\n",
    "file.write(\"Now the file has more content!\")\n",
    "file.close()"
   ]
  },
  {
   "cell_type": "code",
   "execution_count": 7,
   "id": "0e0978b2",
   "metadata": {},
   "outputs": [
    {
     "name": "stdout",
     "output_type": "stream",
     "text": [
      "Now the file has more content!\n"
     ]
    }
   ],
   "source": [
    "f = open(\"test.txt\", \"r\")  \n",
    "print(f.read())   \n",
    "\n",
    "f.close()   "
   ]
  },
  {
   "cell_type": "code",
   "execution_count": 9,
   "id": "8ad0f075",
   "metadata": {},
   "outputs": [],
   "source": [
    "file = open(\"sample.bin\", \"wb\")\n",
    "\n",
    "file.write(b\"This binary string will be written to sample.bin\")\n",
    "\n",
    "file.close()"
   ]
  },
  {
   "cell_type": "code",
   "execution_count": 10,
   "id": "d90ba638",
   "metadata": {},
   "outputs": [
    {
     "name": "stdout",
     "output_type": "stream",
     "text": [
      "b'Thi'\n"
     ]
    }
   ],
   "source": [
    "file = open(\"sample.bin\", \"rb\")  \n",
    "print(file.read(3))\n",
    "\n",
    "file.close()"
   ]
  },
  {
   "cell_type": "code",
   "execution_count": 13,
   "id": "7de49aa5",
   "metadata": {},
   "outputs": [],
   "source": [
    "file=open(\"array.bin\",\"wb\")\n",
    "num=[2,4,6,8,10]\n",
    "array=bytearray(num)\n",
    "file.write(array)\n",
    "file.close()\n"
   ]
  },
  {
   "cell_type": "code",
   "execution_count": 14,
   "id": "260f3762",
   "metadata": {},
   "outputs": [
    {
     "name": "stdout",
     "output_type": "stream",
     "text": [
      "[2, 4, 6, 8, 10]\n"
     ]
    }
   ],
   "source": [
    "f=open(\"array.bin\",\"rb\")\n",
    "num=list(f.read())\n",
    "print(num)\n",
    "f.close()"
   ]
  },
  {
   "cell_type": "code",
   "execution_count": null,
   "id": "c56efc77",
   "metadata": {},
   "outputs": [],
   "source": []
  }
 ],
 "metadata": {
  "kernelspec": {
   "display_name": "Python 3 (ipykernel)",
   "language": "python",
   "name": "python3"
  },
  "language_info": {
   "codemirror_mode": {
    "name": "ipython",
    "version": 3
   },
   "file_extension": ".py",
   "mimetype": "text/x-python",
   "name": "python",
   "nbconvert_exporter": "python",
   "pygments_lexer": "ipython3",
   "version": "3.9.12"
  }
 },
 "nbformat": 4,
 "nbformat_minor": 5
}
